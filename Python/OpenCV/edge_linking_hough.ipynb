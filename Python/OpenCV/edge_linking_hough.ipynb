{
 "cells": [
  {
   "cell_type": "code",
   "execution_count": 2,
   "metadata": {},
   "outputs": [
    {
     "data": {
      "text/plain": [
       "(-0.5, 186.5, 130.5, -0.5)"
      ]
     },
     "execution_count": 2,
     "metadata": {},
     "output_type": "execute_result"
    },
    {
     "data": {
      "image/png": "[encoded data removed]",
      "text/plain": [
       "<Figure size 640x480 with 2 Axes>"
      ]
     },
     "metadata": {},
     "output_type": "display_data"
    },
    {
     "ename": "",
     "evalue": "",
     "output_type": "error",
     "traceback": [
      "\u001b[1;31mThe Kernel crashed while executing code in the the current cell or a previous cell. Please review the code in the cell(s) to identify a possible cause of the failure. Click <a href='https://aka.ms/vscodeJupyterKernelCrash'>here</a> for more info. View Jupyter <a href='command:jupyter.viewOutput'>log</a> for further details."
     ]
    }
   ],
   "source": [
    "# Read image and convert it to grayscale image\n",
    "import cv2\n",
    "import numpy as np\n",
    "import matplotlib.pyplot as plt\n",
    "from cv2 import cvtColor\n",
    "image=cv2.imread(\"img.png\")\n",
    "cv2.imshow(\"ORIGINAL\",image)\n",
    "#gray=cv2.cvtColor(image,cv2.COLOR_RGB2GRAY)\n",
    "\n",
    "plt.figure(1)\n",
    "plt.subplot(1,2,1)\n",
    "plt.imshow(image)\n",
    "plt.title('Original')\n",
    "plt.axis('off')\n",
    "\n",
    "plt.subplot(1,2,2)\n",
    "plt.imshow(image)\n",
    "plt.title('gray')\n",
    "plt.axis('off')\n",
    "\n",
    "\n",
    "# Find the edges in the image using canny detector and display\n",
    "\n",
    "edges = cv2.Canny(image, 120, 150)\n",
    "plt.imshow(edges)\n",
    "plt.title('EDGES')\n",
    "plt.axis('off')\n",
    "\n",
    "# Detect points that form a line using HoughLinesP\n",
    "\n",
    "lines=cv2.HoughLinesP(edges,1,np.pi/180,threshold=80,minLineLength=50,maxLineGap=250)\n",
    "\n",
    "\n",
    "# Draw lines on the image\n",
    "\n",
    "for line in lines:\n",
    "    x1,y1,x2,y2=line[0]\n",
    "    cv2.line(image,(x1,y1),(x2,y2),(0,0,205),2)\n",
    "\n",
    "# Display the result\n",
    "\n",
    "plt.imshow(image)\n",
    "plt.title('HOUGH')\n",
    "plt.axis('off')\n",
    "\n"
   ]
  },
  {
   "cell_type": "code",
   "execution_count": null,
   "metadata": {},
   "outputs": [],
   "source": []
  }
 ],
 "metadata": {
  "kernelspec": {
   "display_name": "Python 3.10.7 64-bit",
   "language": "python",
   "name": "python3"
  },
  "language_info": {
   "codemirror_mode": {
    "name": "ipython",
    "version": 3
   },
   "file_extension": ".py",
   "mimetype": "text/x-python",
   "name": "python",
   "nbconvert_exporter": "python",
   "pygments_lexer": "ipython3",
   "version": "3.10.7"
  },
  "orig_nbformat": 4,
  "vscode": {
   "interpreter": {
    "hash": "47e86d731e077963188d400b641a1f5cee6401b89b8a1175acb1a082248e2517"
   }
  }
 },
 "nbformat": 4,
 "nbformat_minor": 2
}
